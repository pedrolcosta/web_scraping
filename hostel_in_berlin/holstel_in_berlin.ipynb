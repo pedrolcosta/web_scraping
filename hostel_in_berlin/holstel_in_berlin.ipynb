{
  "cells": [
    {
      "metadata": {
        "trusted": true
      },
      "cell_type": "code",
      "source": "from requests import get\nfrom bs4 import BeautifulSoup\n\nimport pandas as pd\nimport numpy as np\n\nimport time\nimport re",
      "execution_count": 1,
      "outputs": []
    },
    {
      "metadata": {
        "trusted": true
      },
      "cell_type": "code",
      "source": "url = 'https://www.hostelworld.com/hostels/Berlin'\nresponse = get(url)",
      "execution_count": 2,
      "outputs": []
    },
    {
      "metadata": {
        "trusted": true
      },
      "cell_type": "code",
      "source": "# criate soup\nsoup = BeautifulSoup(response.text, 'html.parser')",
      "execution_count": 3,
      "outputs": []
    },
    {
      "metadata": {
        "trusted": true
      },
      "cell_type": "code",
      "source": "# creating individual containers, on each one there's information about ano hostel\nholstel_containers = soup.findAll(class_='fabresult rounded clearfix hwta-property')",
      "execution_count": 4,
      "outputs": []
    },
    {
      "metadata": {
        "trusted": true
      },
      "cell_type": "code",
      "source": "# how many hostels on the page\nlen(holstel_containers)",
      "execution_count": 5,
      "outputs": [
        {
          "output_type": "execute_result",
          "execution_count": 5,
          "data": {
            "text/plain": "30"
          },
          "metadata": {}
        }
      ]
    },
    {
      "metadata": {
        "trusted": true
      },
      "cell_type": "code",
      "source": "# Analisando os dados do primeiro hostel\n\nfirst_hostel = holstel_containers[0]\n\n# Hostel name\nfirst_hostel.h2.a.text",
      "execution_count": 6,
      "outputs": [
        {
          "output_type": "execute_result",
          "execution_count": 6,
          "data": {
            "text/plain": "'Grand Hostel Berlin Classic'"
          },
          "metadata": {}
        }
      ]
    },
    {
      "metadata": {
        "trusted": true
      },
      "cell_type": "code",
      "source": "print(first_hostel.prettify())",
      "execution_count": 7,
      "outputs": [
        {
          "output_type": "stream",
          "text": "<div class=\"fabresult rounded clearfix hwta-property\" data-id=\"34160\" data-name=\"Grand Hostel Berlin Classic\" id=\"searchResults_34160\" url=\"https://www.hostelworld.com/hosteldetails.php/Grand-Hostel-Berlin-Classic/Berlin/34160\">\n <div class=\"fab-carousel-skeleton carousel-skeleton\">\n  <div class=\"fab-carousel-container small-12 medium-5 large-3 columns rounded\" data-images=\"https://a.hwstatic.com/propertyimages/3/34160/f7tnuw4gkhoid2zcmt5a.jpg,https://a.hwstatic.com/propertyimages/3/34160/m79pmoi04kow3ug7gi7j.jpg,https://a.hwstatic.com/propertyimages/3/34160/5011.jpg,https://a.hwstatic.com/propertyimages/3/34160/73.jpg,https://a.hwstatic.com/propertyimages/3/34160/gj6tdtn1owavmvbxsale.jpg,https://a.hwstatic.com/propertyimages/3/34160/frzuauiabnf0hezdwkjs.jpg,https://a.hwstatic.com/propertyimages/3/34160/zlasfl84zjnt8fjz3hev.jpg,https://a.hwstatic.com/propertyimages/3/34160/72.jpg,https://a.hwstatic.com/propertyimages/3/34160/77.jpg,https://a.hwstatic.com/propertyimages/3/34160/76.jpg,https://a.hwstatic.com/propertyimages/3/34160/sl3pn1ieonaywxaxh0gp.jpg,https://a.hwstatic.com/propertyimages/3/34160/xnypycangqkwwk9bnmqn.jpg,https://a.hwstatic.com/propertyimages/3/34160/10.jpg,https://a.hwstatic.com/propertyimages/3/34160/23.jpg,https://a.hwstatic.com/propertyimages/3/34160/27.jpg,https://a.hwstatic.com/propertyimages/3/34160/39.JPG,https://a.hwstatic.com/propertyimages/3/34160/47.JPG,https://a.hwstatic.com/propertyimages/3/34160/5.jpg,https://a.hwstatic.com/propertyimages/3/34160/5022.jpg,https://a.hwstatic.com/propertyimages/3/34160/74.jpeg,https://a.hwstatic.com/propertyimages/3/34160/75.jpeg,https://a.hwstatic.com/propertyimages/3/34160/dicxs8hiynt3ddyoaffw.jpg,https://a.hwstatic.com/propertyimages/3/34160/5017.jpg,https://a.hwstatic.com/propertyimages/3/34160/5019.jpg,https://a.hwstatic.com/propertyimages/3/34160/s1tdmx7pnntcaophhecv.jpg,https://a.hwstatic.com/propertyimages/3/34160/5023.jpg,https://a.hwstatic.com/propertyimages/3/34160/33.JPG,https://a.hwstatic.com/propertyimages/3/34160/40.jpg\" main-image=\"Array\">\n   <fab-carousel :images='[{\"prefix\":\"a.hwstatic.com\\/image\\/upload\\/f_auto,q_auto\",\"suffix\":\"\\/v1\\/propertyimages\\/3\\/34160\\/f7tnuw4gkhoid2zcmt5a\"},{\"prefix\":\"a.hwstatic.com\\/image\\/upload\\/f_auto,q_auto\",\"suffix\":\"\\/v1\\/propertyimages\\/3\\/34160\\/m79pmoi04kow3ug7gi7j\"},{\"prefix\":\"a.hwstatic.com\\/image\\/upload\\/f_auto,q_auto\",\"suffix\":\"\\/v1\\/propertyimages\\/3\\/34160\\/5011.jpg\"},{\"prefix\":\"a.hwstatic.com\\/image\\/upload\\/f_auto,q_auto\",\"suffix\":\"\\/v1\\/propertyimages\\/3\\/34160\\/73.jpg\"},{\"prefix\":\"a.hwstatic.com\\/image\\/upload\\/f_auto,q_auto\",\"suffix\":\"\\/v1\\/propertyimages\\/3\\/34160\\/gj6tdtn1owavmvbxsale\"},{\"prefix\":\"a.hwstatic.com\\/image\\/upload\\/f_auto,q_auto\",\"suffix\":\"\\/v1\\/propertyimages\\/3\\/34160\\/frzuauiabnf0hezdwkjs\"},{\"prefix\":\"a.hwstatic.com\\/image\\/upload\\/f_auto,q_auto\",\"suffix\":\"\\/v1\\/propertyimages\\/3\\/34160\\/zlasfl84zjnt8fjz3hev\"},{\"prefix\":\"a.hwstatic.com\\/image\\/upload\\/f_auto,q_auto\",\"suffix\":\"\\/v1\\/propertyimages\\/3\\/34160\\/72.jpg\"},{\"prefix\":\"a.hwstatic.com\\/image\\/upload\\/f_auto,q_auto\",\"suffix\":\"\\/v1\\/propertyimages\\/3\\/34160\\/77.jpg\"},{\"prefix\":\"a.hwstatic.com\\/image\\/upload\\/f_auto,q_auto\",\"suffix\":\"\\/v1\\/propertyimages\\/3\\/34160\\/76.jpg\"},{\"prefix\":\"a.hwstatic.com\\/image\\/upload\\/f_auto,q_auto\",\"suffix\":\"\\/v1\\/propertyimages\\/3\\/34160\\/sl3pn1ieonaywxaxh0gp\"},{\"prefix\":\"a.hwstatic.com\\/image\\/upload\\/f_auto,q_auto\",\"suffix\":\"\\/v1\\/propertyimages\\/3\\/34160\\/xnypycangqkwwk9bnmqn\"},{\"prefix\":\"a.hwstatic.com\\/image\\/upload\\/f_auto,q_auto\",\"suffix\":\"\\/v1\\/propertyimages\\/3\\/34160\\/10.jpg\"},{\"prefix\":\"a.hwstatic.com\\/image\\/upload\\/f_auto,q_auto\",\"suffix\":\"\\/v1\\/propertyimages\\/3\\/34160\\/23.jpg\"},{\"prefix\":\"a.hwstatic.com\\/image\\/upload\\/f_auto,q_auto\",\"suffix\":\"\\/v1\\/propertyimages\\/3\\/34160\\/27.jpg\"},{\"prefix\":\"a.hwstatic.com\\/image\\/upload\\/f_auto,q_auto\",\"suffix\":\"\\/v1\\/propertyimages\\/3\\/34160\\/39.JPG\"},{\"prefix\":\"a.hwstatic.com\\/image\\/upload\\/f_auto,q_auto\",\"suffix\":\"\\/v1\\/propertyimages\\/3\\/34160\\/47.JPG\"},{\"prefix\":\"a.hwstatic.com\\/image\\/upload\\/f_auto,q_auto\",\"suffix\":\"\\/v1\\/propertyimages\\/3\\/34160\\/5.jpg\"},{\"prefix\":\"a.hwstatic.com\\/image\\/upload\\/f_auto,q_auto\",\"suffix\":\"\\/v1\\/propertyimages\\/3\\/34160\\/5022.jpg\"},{\"prefix\":\"a.hwstatic.com\\/image\\/upload\\/f_auto,q_auto\",\"suffix\":\"\\/v1\\/propertyimages\\/3\\/34160\\/74.jpeg\"},{\"prefix\":\"a.hwstatic.com\\/image\\/upload\\/f_auto,q_auto\",\"suffix\":\"\\/v1\\/propertyimages\\/3\\/34160\\/75.jpeg\"},{\"prefix\":\"a.hwstatic.com\\/image\\/upload\\/f_auto,q_auto\",\"suffix\":\"\\/v1\\/propertyimages\\/3\\/34160\\/dicxs8hiynt3ddyoaffw\"},{\"prefix\":\"a.hwstatic.com\\/image\\/upload\\/f_auto,q_auto\",\"suffix\":\"\\/v1\\/propertyimages\\/3\\/34160\\/5017.jpg\"},{\"prefix\":\"a.hwstatic.com\\/image\\/upload\\/f_auto,q_auto\",\"suffix\":\"\\/v1\\/propertyimages\\/3\\/34160\\/5019.jpg\"},{\"prefix\":\"a.hwstatic.com\\/image\\/upload\\/f_auto,q_auto\",\"suffix\":\"\\/v1\\/propertyimages\\/3\\/34160\\/s1tdmx7pnntcaophhecv\"},{\"prefix\":\"a.hwstatic.com\\/image\\/upload\\/f_auto,q_auto\",\"suffix\":\"\\/v1\\/propertyimages\\/3\\/34160\\/5023.jpg\"},{\"prefix\":\"a.hwstatic.com\\/image\\/upload\\/f_auto,q_auto\",\"suffix\":\"\\/v1\\/propertyimages\\/3\\/34160\\/33.JPG\"},{\"prefix\":\"a.hwstatic.com\\/image\\/upload\\/f_auto,q_auto\",\"suffix\":\"\\/v1\\/propertyimages\\/3\\/34160\\/40.jpg\"}]' :key=\"34160\" :property-id=\"34160\" :total-gallery-images=\"28\" v-if=\"displayCarousel\">\n   </fab-carousel>\n   <img alt=\"property-image\" class=\"mobile-main-image\" src=\"https://a.hwstatic.com/image/upload/f_auto,q_auto,c_fill,w_104,h_104/v1/propertyimages/3/34160/f7tnuw4gkhoid2zcmt5a\" v-show=\"!displayCarousel\"/>\n  </div>\n </div>\n <wish-list-trigger :key=\"34160\" :property-id=\"34160\" :property-rating=\"92\" :tooltip-saved=\"'Remove from wish list'\" :tooltip-unsaved=\"'Save to Wish List'\" class=\"fab-wish-list-trigger pull-right mt-1\" property-image=\"https://a.hwstatic.com/propertyimages/3/34160/f7tnuw4gkhoid2zcmt5a.jpg\" property-name=\"Grand Hostel Berlin Classic\">\n </wish-list-trigger>\n <div class=\"resultheader rounded clearfix small-12 medium-7 large-8 columns clearfix\">\n  <div class=\"proptype featureline\">\n   Hostel\n  </div>\n  <h2>\n   <a class=\"hwta-property-link\" href=\"https://www.hostelworld.com/hosteldetails.php/Grand-Hostel-Berlin-Classic/Berlin/34160\">\n    Grand Hostel Berlin Classic\n   </a>\n  </h2>\n  <div class=\"mobileproperty\">\n   Hostel\n  </div>\n  <div class=\"addressline\">\n   3.2km from city centre\n   <a @click=\"openMapModal(34160)\" class=\"open-map-modal\" v-if=\"displayShowMap\">\n    - Show on Map\n   </a>\n  </div>\n  <div class=\"fabresult-details-rating\">\n   <div class=\"hwta-rating-container\">\n    <div class=\"hwta-rating-summary\">\n     <a class=\"hwta-rating-score\" href=\"https://www.hostelworld.com/hosteldetails.php/Grand-Hostel-Berlin-Classic/Berlin/34160#reviews\">\n      9.2\n     </a>\n     <div class=\"hwta-rating-info\">\n      <span class=\"hwta-rating-text-score\">\n       Superb\n      </span>\n      <a class=\"hwta-rating-counter\" href=\"https://www.hostelworld.com/hosteldetails.php/Grand-Hostel-Berlin-Classic/Berlin/34160#reviews\">\n       <i class=\"fa fa-comment-o\">\n       </i>\n       6718\n      </a>\n     </div>\n    </div>\n    <ul class=\"hwta-rating-factors clearfix\">\n     <li>\n      <span class=\"hwta-rating-factors-icon hwta-rating-factors-icon-red\">\n       <i class=\"fa fa-map-marker fa-flip-horizontal rounded\">\n       </i>\n      </span>\n      <span class=\"hwta-rating-factors-label\">\n       Wonderful\n       <b>\n        Location\n       </b>\n      </span>\n     </li>\n     <li>\n      <span class=\"hwta-rating-factors-icon hwta-rating-factors-icon-green\">\n       <i class=\"fa fa-user fa-flip-horizontal rounded\">\n       </i>\n      </span>\n      <span class=\"hwta-rating-factors-label\">\n       Superb\n       <b>\n        Staff\n       </b>\n      </span>\n     </li>\n     <li>\n      <span class=\"hwta-rating-factors-icon hwta-rating-factors-icon-blue\">\n       <i class=\"fa fa-magic fa-rotate-180 rounded\">\n       </i>\n      </span>\n      <span class=\"hwta-rating-factors-label\">\n       Fantastic\n       <b>\n        Cleanliness\n       </b>\n      </span>\n     </li>\n    </ul>\n   </div>\n   <div class=\"mobilefacilities\">\n    <div class=\"facility icon_freewifi\">\n     <i class=\"fa fa-wifi\">\n     </i>\n    </div>\n    <div class=\"facility icon_freebrekkie\">\n     <i class=\"fa fa-coffee\">\n     </i>\n    </div>\n   </div>\n  </div>\n  <div class=\"icon_freewifi\">\n   <i class=\"fa fa-wifi\">\n   </i>\n   Free WiFi\n  </div>\n  <div class=\"icon_freebrekkie\">\n   <i class=\"fa fa-coffee\">\n   </i>\n   Free Breakfast\n  </div>\n  <div class=\"mobileprice\">\n   <a class=\"hwta-property-link\" href=\"https://www.hostelworld.com/hosteldetails.php/Grand-Hostel-Berlin-Classic/Berlin/34160\">\n    <span class=\"price\">\n     US$17.14\n    </span>\n   </a>\n  </div>\n  <!-- result details -->\n  <div class=\"fabresult-details\">\n   <p class=\"show-for-medium-up\">\n    Our hostel is set in a historical building right in the heart of the city. We offer many services that other hostels don't, such as 24 hour reception, breakfast until 12pm......\n    <a class=\"hwta-property-link\" href=\"https://www.hostelworld.com/hosteldetails.php/Grand-Hostel-Berlin-Classic/Berlin/34160\">\n     More...\n    </a>\n   </p>\n  </div>\n  <div class=\"fabresult-prices small-12\">\n   <ul class=\"pricing no-bullet\">\n    <li class=\"minprice clearfix\">\n     <span class=\"price\">\n      <a href=\"https://www.hostelworld.com/hosteldetails.php/Grand-Hostel-Berlin-Classic/Berlin/34160\">\n       US$17.14\n      </a>\n     </span>\n     <a class=\"hwta-property-link\" href=\"https://www.hostelworld.com/hosteldetails.php/Grand-Hostel-Berlin-Classic/Berlin/34160\">\n      Prices from:\n     </a>\n    </li>\n   </ul>\n  </div>\n </div>\n <a class=\"moreinfo button tiny radius hwta-property-link\" href=\"https://www.hostelworld.com/hosteldetails.php/Grand-Hostel-Berlin-Classic/Berlin/34160\">\n  View\n </a>\n</div>\n\n",
          "name": "stdout"
        }
      ]
    },
    {
      "metadata": {
        "trusted": true
      },
      "cell_type": "code",
      "source": "# first, create the empty lists\n\nhostel_names = []\nhostel_links = []\nhostel_distance = []\nhostel_ratings = []\nhostel_reviews = []\nhostel_prices = []\n\n# To iterate over the pages and create the conteiners\nfor page in np.arange(1,4):\n    url = 'http://www.hostelworld.com/hostels/Berlin?page=' + str(page)\n    response = get(url)\n    soup = BeautifulSoup(response.text, 'html.parser')\n    holstel_containers= soup.findAll(class_='fabresult rounded clearfix hwta-property')\n    \n#to iterate over the results on each page\n    for item in range(len(holstel_containers)):\n        hostel_names.append(holstel_containers[item].h2.a.text)\n        hostel_links.append(holstel_containers[item].h2.a.get('href'))\n        hostel_distance.append(holstel_containers[item].find(class_='addressline').text[12:18].replace('k', '').replace('m','').strip())\n        hostel_ratings.append(holstel_containers[item].find(class_='hwta-rating-score').text.replace('\\n', '').strip())\n        hostel_reviews.append(holstel_containers[item].find(class_='hwta-rating-counter').text.replace('\\n', '').strip())\n        hostel_prices.append(holstel_containers[item].find(class_='price').text.replace('\\n', '').strip()[3:])\n\n# this is used to not push too hard on the website\n    time.sleep(2)",
      "execution_count": 8,
      "outputs": []
    },
    {
      "metadata": {
        "trusted": true
      },
      "cell_type": "code",
      "source": "# create the dictionary to feed the dataframe\nhw_berlin = pd.DataFrame({\n    'hostel_name': hostel_names,\n    'distance_center_km': hostel_distance,\n    'average_rating': hostel_ratings,\n    'number_reviews': hostel_reviews,\n    'average_price_usd': hostel_prices,\n    'hw_links': hostel_links\n})",
      "execution_count": 9,
      "outputs": []
    },
    {
      "metadata": {
        "trusted": true
      },
      "cell_type": "code",
      "source": "hw_berlin.head()",
      "execution_count": 10,
      "outputs": [
        {
          "output_type": "execute_result",
          "execution_count": 10,
          "data": {
            "text/html": "<div>\n<style scoped>\n    .dataframe tbody tr th:only-of-type {\n        vertical-align: middle;\n    }\n\n    .dataframe tbody tr th {\n        vertical-align: top;\n    }\n\n    .dataframe thead th {\n        text-align: right;\n    }\n</style>\n<table border=\"1\" class=\"dataframe\">\n  <thead>\n    <tr style=\"text-align: right;\">\n      <th></th>\n      <th>hostel_name</th>\n      <th>distance_center_km</th>\n      <th>average_rating</th>\n      <th>number_reviews</th>\n      <th>average_price_usd</th>\n      <th>hw_links</th>\n    </tr>\n  </thead>\n  <tbody>\n    <tr>\n      <th>0</th>\n      <td>Grand Hostel Berlin Classic</td>\n      <td>3.2</td>\n      <td>9.2</td>\n      <td>6718</td>\n      <td>17.14</td>\n      <td>https://www.hostelworld.com/hosteldetails.php/...</td>\n    </tr>\n    <tr>\n      <th>1</th>\n      <td>Industriepalast Hostel Berlin</td>\n      <td>3.3</td>\n      <td>8.5</td>\n      <td>1609</td>\n      <td>14.46</td>\n      <td>https://www.hostelworld.com/hosteldetails.php/...</td>\n    </tr>\n    <tr>\n      <th>2</th>\n      <td>EastSeven Berlin Hostel</td>\n      <td>1.2</td>\n      <td>9.5</td>\n      <td>6941</td>\n      <td>19.29</td>\n      <td>https://www.hostelworld.com/hosteldetails.php/...</td>\n    </tr>\n    <tr>\n      <th>3</th>\n      <td>Pfefferbett Hostel</td>\n      <td>1 fr</td>\n      <td>9.4</td>\n      <td>4557</td>\n      <td>17.49</td>\n      <td>https://www.hostelworld.com/hosteldetails.php/...</td>\n    </tr>\n    <tr>\n      <th>4</th>\n      <td>PLUS Berlin</td>\n      <td>3.4</td>\n      <td>9.1</td>\n      <td>16512</td>\n      <td>12.46</td>\n      <td>https://www.hostelworld.com/hosteldetails.php/...</td>\n    </tr>\n  </tbody>\n</table>\n</div>",
            "text/plain": "                     hostel_name distance_center_km average_rating  \\\n0    Grand Hostel Berlin Classic                3.2            9.2   \n1  Industriepalast Hostel Berlin                3.3            8.5   \n2        EastSeven Berlin Hostel                1.2            9.5   \n3             Pfefferbett Hostel               1 fr            9.4   \n4                    PLUS Berlin                3.4            9.1   \n\n  number_reviews average_price_usd  \\\n0           6718             17.14   \n1           1609             14.46   \n2           6941             19.29   \n3           4557             17.49   \n4          16512             12.46   \n\n                                            hw_links  \n0  https://www.hostelworld.com/hosteldetails.php/...  \n1  https://www.hostelworld.com/hosteldetails.php/...  \n2  https://www.hostelworld.com/hosteldetails.php/...  \n3  https://www.hostelworld.com/hosteldetails.php/...  \n4  https://www.hostelworld.com/hosteldetails.php/...  "
          },
          "metadata": {}
        }
      ]
    },
    {
      "metadata": {
        "trusted": true
      },
      "cell_type": "code",
      "source": "# removing non numerical character on the column distance_center_km\n\nhw_berlin.distance_center_km = [re.sub('[^ 0-9.]', '', x) for x in hw_berlin.distance_center_km]\n\n#Usando a função sub(), ou substituir, da biblioteca de operações em regex re e aplicando a expressão regular ‘[^ 0-9.]’, \n    #que exclui tudo o que não seja número ou um ponto.",
      "execution_count": 11,
      "outputs": []
    },
    {
      "metadata": {
        "trusted": true
      },
      "cell_type": "code",
      "source": "hw_berlin.head()",
      "execution_count": 12,
      "outputs": [
        {
          "output_type": "execute_result",
          "execution_count": 12,
          "data": {
            "text/html": "<div>\n<style scoped>\n    .dataframe tbody tr th:only-of-type {\n        vertical-align: middle;\n    }\n\n    .dataframe tbody tr th {\n        vertical-align: top;\n    }\n\n    .dataframe thead th {\n        text-align: right;\n    }\n</style>\n<table border=\"1\" class=\"dataframe\">\n  <thead>\n    <tr style=\"text-align: right;\">\n      <th></th>\n      <th>hostel_name</th>\n      <th>distance_center_km</th>\n      <th>average_rating</th>\n      <th>number_reviews</th>\n      <th>average_price_usd</th>\n      <th>hw_links</th>\n    </tr>\n  </thead>\n  <tbody>\n    <tr>\n      <th>0</th>\n      <td>Grand Hostel Berlin Classic</td>\n      <td>3.2</td>\n      <td>9.2</td>\n      <td>6718</td>\n      <td>17.14</td>\n      <td>https://www.hostelworld.com/hosteldetails.php/...</td>\n    </tr>\n    <tr>\n      <th>1</th>\n      <td>Industriepalast Hostel Berlin</td>\n      <td>3.3</td>\n      <td>8.5</td>\n      <td>1609</td>\n      <td>14.46</td>\n      <td>https://www.hostelworld.com/hosteldetails.php/...</td>\n    </tr>\n    <tr>\n      <th>2</th>\n      <td>EastSeven Berlin Hostel</td>\n      <td>1.2</td>\n      <td>9.5</td>\n      <td>6941</td>\n      <td>19.29</td>\n      <td>https://www.hostelworld.com/hosteldetails.php/...</td>\n    </tr>\n    <tr>\n      <th>3</th>\n      <td>Pfefferbett Hostel</td>\n      <td>1</td>\n      <td>9.4</td>\n      <td>4557</td>\n      <td>17.49</td>\n      <td>https://www.hostelworld.com/hosteldetails.php/...</td>\n    </tr>\n    <tr>\n      <th>4</th>\n      <td>PLUS Berlin</td>\n      <td>3.4</td>\n      <td>9.1</td>\n      <td>16512</td>\n      <td>12.46</td>\n      <td>https://www.hostelworld.com/hosteldetails.php/...</td>\n    </tr>\n  </tbody>\n</table>\n</div>",
            "text/plain": "                     hostel_name distance_center_km average_rating  \\\n0    Grand Hostel Berlin Classic                3.2            9.2   \n1  Industriepalast Hostel Berlin                3.3            8.5   \n2        EastSeven Berlin Hostel                1.2            9.5   \n3             Pfefferbett Hostel                 1             9.4   \n4                    PLUS Berlin                3.4            9.1   \n\n  number_reviews average_price_usd  \\\n0           6718             17.14   \n1           1609             14.46   \n2           6941             19.29   \n3           4557             17.49   \n4          16512             12.46   \n\n                                            hw_links  \n0  https://www.hostelworld.com/hosteldetails.php/...  \n1  https://www.hostelworld.com/hosteldetails.php/...  \n2  https://www.hostelworld.com/hosteldetails.php/...  \n3  https://www.hostelworld.com/hosteldetails.php/...  \n4  https://www.hostelworld.com/hosteldetails.php/...  "
          },
          "metadata": {}
        }
      ]
    },
    {
      "metadata": {
        "trusted": true
      },
      "cell_type": "code",
      "source": "",
      "execution_count": null,
      "outputs": []
    }
  ],
  "metadata": {
    "kernelspec": {
      "name": "python36",
      "display_name": "Python 3.6",
      "language": "python"
    },
    "language_info": {
      "mimetype": "text/x-python",
      "nbconvert_exporter": "python",
      "name": "python",
      "pygments_lexer": "ipython3",
      "version": "3.6.6",
      "file_extension": ".py",
      "codemirror_mode": {
        "version": 3,
        "name": "ipython"
      }
    }
  },
  "nbformat": 4,
  "nbformat_minor": 2
}