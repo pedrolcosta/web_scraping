{
 "cells": [
  {
   "cell_type": "code",
   "execution_count": 70,
   "metadata": {},
   "outputs": [],
   "source": [
    "# import modules\n",
    "import requests\n",
    "from  bs4 import BeautifulSoup as bs4\n",
    "import pandas as pd\n",
    "import json\n",
    "\n",
    "# assigning the searched page to the variable - associando a página buscada a uma variável\n",
    "URL_LAST_RESULTS = 'http://www1.caixa.gov.br/loterias/loterias/megasena/megasena_pesquisa_new.asp'"
   ]
  },
  {
   "cell_type": "code",
   "execution_count": 71,
   "metadata": {},
   "outputs": [
    {
     "name": "stdout",
     "output_type": "stream",
     "text": [
      "b'2266|39.159.544,26|<span class=\"num_sorteio\"><ul><li>23</li><li>37</li><li>59</li><li>10</li><li>58</li><li>31</li></ul></span>|0|0,00|50|64.685,64|4.167|1.108,80|<a class=\"btn_conc_ant_megasena\" href=\"javascript:carrega_concurso(2265);\" tabindex=\"27\" title=\"Ver concurso anterior\">Ver concurso anterior</a>||30/05/2020|S\\xc3O PAULO|SP|Espa\\xe7o Loterias Caixa||2270|0|6.747.575,46||<span class=\"num_sorteio\"><ul><li>10</li><li>23</li><li>31</li><li>37</li><li>58</li><li>59</li></ul></span>|45.000.000,00|03/06/2020|39.191.600,65|56.096.676,00'\n"
     ]
    }
   ],
   "source": [
    "# extraction the searched page - extraindo a página buscada\n",
    "page = requests.get(URL_LAST_RESULTS)\n",
    "print (page.content)"
   ]
  },
  {
   "cell_type": "code",
   "execution_count": 72,
   "metadata": {},
   "outputs": [],
   "source": [
    "# applying BeautifulSoup to the extracted page - aplicando o BeautifulSoup a página extraida\n",
    "bs = bs4(page.content, features='lxml')"
   ]
  },
  {
   "cell_type": "code",
   "execution_count": 73,
   "metadata": {},
   "outputs": [
    {
     "data": {
      "text/plain": [
       "[<li>23</li>,\n",
       " <li>37</li>,\n",
       " <li>59</li>,\n",
       " <li>10</li>,\n",
       " <li>58</li>,\n",
       " <li>31</li>,\n",
       " <li>10</li>,\n",
       " <li>23</li>,\n",
       " <li>31</li>,\n",
       " <li>37</li>,\n",
       " <li>58</li>,\n",
       " <li>59</li>]"
      ]
     },
     "execution_count": 73,
     "metadata": {},
     "output_type": "execute_result"
    }
   ],
   "source": [
    "# seeking all 'li' of the page using bs4 - buscando todos os 'li' no BeautifulSoup\n",
    "bs.findAll('li')"
   ]
  },
  {
   "cell_type": "code",
   "execution_count": 74,
   "metadata": {},
   "outputs": [
    {
     "data": {
      "text/plain": [
       "['23', '37', '59', '10', '58', '31']"
      ]
     },
     "execution_count": 74,
     "metadata": {},
     "output_type": "execute_result"
    }
   ],
   "source": [
    "#  for each 'li' show me its inside contents -> WINNING NUMBERS - para cada 'li' me informe o conteúdo dentro dele -> NÚMEROS SORTEADOS\n",
    "numbers = [n.contents[0] for n in bs.findAll('li')[:6]]\n",
    "numbers"
   ]
  },
  {
   "cell_type": "code",
   "execution_count": 75,
   "metadata": {},
   "outputs": [
    {
     "data": {
      "text/plain": [
       "[\"b'2266\",\n",
       " '39.159.544,26',\n",
       " '<span class=\"num_sorteio\"><ul><li>23</li><li>37</li><li>59</li><li>10</li><li>58</li><li>31</li></ul></span>',\n",
       " '0',\n",
       " '0,00',\n",
       " '50',\n",
       " '64.685,64',\n",
       " '4.167',\n",
       " '1.108,80',\n",
       " '<a class=\"btn_conc_ant_megasena\" href=\"javascript:carrega_concurso(2265);\" tabindex=\"27\" title=\"Ver concurso anterior\">Ver concurso anterior</a>',\n",
       " '',\n",
       " '30/05/2020',\n",
       " 'S\\\\xc3O PAULO',\n",
       " 'SP',\n",
       " 'Espa\\\\xe7o Loterias Caixa',\n",
       " '',\n",
       " '2270',\n",
       " '0',\n",
       " '6.747.575,46',\n",
       " '',\n",
       " '<span class=\"num_sorteio\"><ul><li>10</li><li>23</li><li>31</li><li>37</li><li>58</li><li>59</li></ul></span>',\n",
       " '45.000.000,00',\n",
       " '03/06/2020',\n",
       " '39.191.600,65',\n",
       " \"56.096.676,00'\"]"
      ]
     },
     "execution_count": 75,
     "metadata": {},
     "output_type": "execute_result"
    }
   ],
   "source": [
    "# transforming bytes to strings - transformando bytes em strings\n",
    "page_content_str = str(page.content)\n",
    "\n",
    "# splitting the content of the page - separando o conteúdo da página\n",
    "results = page_content_str.split('|')\n",
    "results"
   ]
  },
  {
   "cell_type": "code",
   "execution_count": 76,
   "metadata": {},
   "outputs": [
    {
     "data": {
      "text/plain": [
       "'2266'"
      ]
     },
     "execution_count": 76,
     "metadata": {},
     "output_type": "execute_result"
    }
   ],
   "source": [
    "#  lottery draw number - número do sorteio\n",
    "results[0][2:]"
   ]
  },
  {
   "cell_type": "code",
   "execution_count": 77,
   "metadata": {},
   "outputs": [
    {
     "data": {
      "text/plain": [
       "'39.159.544,26'"
      ]
     },
     "execution_count": 77,
     "metadata": {},
     "output_type": "execute_result"
    }
   ],
   "source": [
    "# prize amount - valor do prêmio\n",
    "results[1]"
   ]
  },
  {
   "cell_type": "code",
   "execution_count": 78,
   "metadata": {},
   "outputs": [
    {
     "data": {
      "text/plain": [
       "'0'"
      ]
     },
     "execution_count": 78,
     "metadata": {},
     "output_type": "execute_result"
    }
   ],
   "source": [
    "# number of winners - quantidade de vencedores\n",
    "results[3]"
   ]
  },
  {
   "cell_type": "code",
   "execution_count": 79,
   "metadata": {},
   "outputs": [
    {
     "data": {
      "text/plain": [
       "'0,00'"
      ]
     },
     "execution_count": 79,
     "metadata": {},
     "output_type": "execute_result"
    }
   ],
   "source": [
    "# amount per winner - valor por vencedor\n",
    "results[4]"
   ]
  },
  {
   "cell_type": "code",
   "execution_count": 80,
   "metadata": {},
   "outputs": [
    {
     "data": {
      "text/plain": [
       "'30/05/2020'"
      ]
     },
     "execution_count": 80,
     "metadata": {},
     "output_type": "execute_result"
    }
   ],
   "source": [
    "# lottery draw date - data do sorteio\n",
    "results[11]"
   ]
  },
  {
   "cell_type": "code",
   "execution_count": 81,
   "metadata": {},
   "outputs": [
    {
     "data": {
      "text/plain": [
       "lottery_draw_number_-_concurso                                2266\n",
       "lottery_draw_date_-_data_sorteio                        30/05/2020\n",
       "winner_numbers_-_numeros                  [23, 37, 59, 10, 58, 31]\n",
       "prize_amount_-_premio                                39.159.544,26\n",
       "number_of_winners_-_numero_vencedores                            0\n",
       "amount_per_winner_-_valor_por_vencedor                        0,00\n",
       "dtype: object"
      ]
     },
     "execution_count": 81,
     "metadata": {},
     "output_type": "execute_result"
    }
   ],
   "source": [
    "# creating a series with the data - criando uma series com os dados\n",
    "df = pd.Series({'lottery_draw_number_-_concurso':results[0][2:], 'lottery_draw_date_-_data_sorteio':results[11], 'winner_numbers_-_numeros':numbers,\n",
    "                  'prize_amount_-_premio':results[1], 'number_of_winners_-_numero_vencedores':results[3], 'amount_per_winner_-_valor_por_vencedor':results[4]})\n",
    "df"
   ]
  },
  {
   "cell_type": "code",
   "execution_count": 82,
   "metadata": {},
   "outputs": [
    {
     "data": {
      "text/plain": [
       "'{\"lottery_draw_number_-_concurso\":\"2266\",\"lottery_draw_date_-_data_sorteio\":\"30\\\\/05\\\\/2020\",\"winner_numbers_-_numeros\":[\"23\",\"37\",\"59\",\"10\",\"58\",\"31\"],\"prize_amount_-_premio\":\"39.159.544,26\",\"number_of_winners_-_numero_vencedores\":\"0\",\"amount_per_winner_-_valor_por_vencedor\":\"0,00\"}'"
      ]
     },
     "execution_count": 82,
     "metadata": {},
     "output_type": "execute_result"
    }
   ],
   "source": [
    "# transforming the series in a json file - transformando a series em um arquivo json\n",
    "json_file = df.to_json(orient='index')\n",
    "json_file"
   ]
  },
  {
   "cell_type": "code",
   "execution_count": null,
   "metadata": {},
   "outputs": [],
   "source": []
  }
 ],
 "metadata": {
  "kernelspec": {
   "display_name": "Python 3",
   "language": "python",
   "name": "python3"
  },
  "language_info": {
   "codemirror_mode": {
    "name": "ipython",
    "version": 3
   },
   "file_extension": ".py",
   "mimetype": "text/x-python",
   "name": "python",
   "nbconvert_exporter": "python",
   "pygments_lexer": "ipython3",
   "version": "3.7.6"
  }
 },
 "nbformat": 4,
 "nbformat_minor": 4
}
